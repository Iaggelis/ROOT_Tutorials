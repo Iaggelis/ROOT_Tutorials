{
 "cells": [
  {
   "cell_type": "markdown",
   "metadata": {},
   "source": [
    "# Import the libraries"
   ]
  },
  {
   "cell_type": "code",
   "execution_count": 1,
   "metadata": {},
   "outputs": [],
   "source": [
    "import uproot\n",
    "import matplotlib.pyplot as plt\n",
    "import numpy as np\n",
    "%matplotlib inline"
   ]
  },
  {
   "cell_type": "markdown",
   "metadata": {},
   "source": [
    "- The '%matplotlib inline' is a notebook magic for the plots to be saved with the notebook"
   ]
  },
  {
   "cell_type": "code",
   "execution_count": 2,
   "metadata": {},
   "outputs": [],
   "source": [
    "path = \"../Data/\"\n",
    "filename = path + \"higgs_small.root\""
   ]
  },
  {
   "cell_type": "markdown",
   "metadata": {},
   "source": [
    "- Now we will open a ROOT file containing signal and background Higgs events  "
   ]
  },
  {
   "cell_type": "code",
   "execution_count": 3,
   "metadata": {},
   "outputs": [],
   "source": [
    "rt_file = uproot.open(filename)"
   ]
  },
  {
   "cell_type": "markdown",
   "metadata": {},
   "source": [
    "We can see the trees in the file with:"
   ]
  },
  {
   "cell_type": "code",
   "execution_count": 4,
   "metadata": {},
   "outputs": [
    {
     "data": {
      "text/plain": [
       "[b'TreeS;1', b'TreeB;1']"
      ]
     },
     "execution_count": 4,
     "metadata": {},
     "output_type": "execute_result"
    }
   ],
   "source": [
    "rt_file.keys()"
   ]
  },
  {
   "cell_type": "markdown",
   "metadata": {},
   "source": [
    "Let's print the branches of each tree"
   ]
  },
  {
   "cell_type": "code",
   "execution_count": 5,
   "metadata": {},
   "outputs": [
    {
     "name": "stdout",
     "output_type": "stream",
     "text": [
      "[b'lepton_pT', b'lepton_eta', b'lepton_phi', b'missing_energy_magnitude', b'missing_energy_phi', b'jet_1_pt', b'jet_1_eta', b'jet_1_phi', b'jet_1_b_tag', b'jet_2_pt', b'jet_2_eta', b'jet_2_phi', b'jet_2_b_tag', b'jet_3_pt', b'jet_3_eta', b'jet_3_phi', b'jet_3_b_tag', b'jet_4_pt', b'jet_4_eta', b'jet_4_phi', b'jet_4_b_tag', b'm_jj', b'm_jjj', b'm_lv', b'm_jlv', b'm_bb', b'm_wbb', b'm_wwbb']\n",
      "[b'lepton_pT', b'lepton_eta', b'lepton_phi', b'missing_energy_magnitude', b'missing_energy_phi', b'jet_1_pt', b'jet_1_eta', b'jet_1_phi', b'jet_1_b_tag', b'jet_2_pt', b'jet_2_eta', b'jet_2_phi', b'jet_2_b_tag', b'jet_3_pt', b'jet_3_eta', b'jet_3_phi', b'jet_3_b_tag', b'jet_4_pt', b'jet_4_eta', b'jet_4_phi', b'jet_4_b_tag', b'm_jj', b'm_jjj', b'm_lv', b'm_jlv', b'm_bb', b'm_wbb', b'm_wwbb']\n"
     ]
    }
   ],
   "source": [
    "# TBranches of TTrees are also presented as dicts.\n",
    "for tree in rt_file.keys():\n",
    "    print(rt_file[tree].keys())"
   ]
  },
  {
   "cell_type": "markdown",
   "metadata": {},
   "source": [
    "Let's pick one tree and one branch and try to plot it"
   ]
  },
  {
   "cell_type": "code",
   "execution_count": 6,
   "metadata": {},
   "outputs": [],
   "source": [
    "lep_pt = rt_file[b'TreeS'][b'lepton_pT']\n",
    "signal_tree = rt_file[b'TreeS']"
   ]
  },
  {
   "cell_type": "code",
   "execution_count": 7,
   "metadata": {},
   "outputs": [
    {
     "data": {
      "text/plain": [
       "<TBranch b'lepton_pT' at 0x7f172f299dd0>"
      ]
     },
     "execution_count": 7,
     "metadata": {},
     "output_type": "execute_result"
    }
   ],
   "source": [
    "lep_pt"
   ]
  },
  {
   "cell_type": "markdown",
   "metadata": {},
   "source": [
    "Hmm, dealing with a TBranch object is not that usefull, it would be better to have an array instead.\n",
    "The numpy array objects will have the same type as specified from the interpretation method."
   ]
  },
  {
   "cell_type": "code",
   "execution_count": 8,
   "metadata": {},
   "outputs": [
    {
     "name": "stdout",
     "output_type": "stream",
     "text": [
      "asdtype('>f8')\n"
     ]
    }
   ],
   "source": [
    "print(lep_pt.interpretation)\n",
    "lep_pt_array = lep_pt.array()\n",
    "# We could have used lep_pt = rt_file[b'TreeS'][b'lepton_pT'].array()\n",
    "# and would have the same result"
   ]
  },
  {
   "cell_type": "code",
   "execution_count": 9,
   "metadata": {},
   "outputs": [
    {
     "data": {
      "text/plain": [
       "array([0.86929321, 0.90754211, 0.79883474, ..., 0.91376442, 0.7430169 ,\n",
       "       0.75253338])"
      ]
     },
     "execution_count": 9,
     "metadata": {},
     "output_type": "execute_result"
    }
   ],
   "source": [
    "lep_pt_array"
   ]
  },
  {
   "cell_type": "markdown",
   "metadata": {},
   "source": [
    "- We can see, that when iterating through a branch, we iterate through the baskets of the branch"
   ]
  },
  {
   "cell_type": "code",
   "execution_count": 10,
   "metadata": {},
   "outputs": [
    {
     "name": "stdout",
     "output_type": "stream",
     "text": [
      "3990\n",
      "1306\n"
     ]
    }
   ],
   "source": [
    "for x in signal_tree.iterate([b'lepton_pT'],namedecode=\"utf-8\"):\n",
    "    print(x['lepton_pT'].size)"
   ]
  },
  {
   "cell_type": "markdown",
   "metadata": {},
   "source": [
    "These two numbers correspond to the size of each basket, in this case there are 2 backets"
   ]
  },
  {
   "cell_type": "markdown",
   "metadata": {},
   "source": [
    "---\n",
    "\n",
    "We can iterate for each event, by using lazyarray\n",
    "(here just the first 10 elements)"
   ]
  },
  {
   "cell_type": "code",
   "execution_count": 11,
   "metadata": {},
   "outputs": [
    {
     "name": "stdout",
     "output_type": "stream",
     "text": [
      "0 0.869293212890625\n",
      "1 0.9075421094894408\n",
      "2 0.7988347411155698\n",
      "3 1.1050089597702026\n",
      "4 0.40939134359359747\n",
      "5 0.9338953495025634\n",
      "6 1.4051437377929688\n",
      "7 1.1765655279159546\n",
      "8 0.9459739923477172\n",
      "9 1.3840976953506468\n"
     ]
    }
   ],
   "source": [
    "for i, pT in enumerate(signal_tree.lazyarray('lepton_pT')[:10]):\n",
    "    print(i,pT)"
   ]
  },
  {
   "cell_type": "markdown",
   "metadata": {},
   "source": [
    "--- \n",
    "We can even access multiple branches at once, where the leptons is a python dictionary\n",
    "with numpy arrays for each variable"
   ]
  },
  {
   "cell_type": "code",
   "execution_count": 12,
   "metadata": {},
   "outputs": [],
   "source": [
    "leptons = signal_tree.arrays(['lepton_pT', 'lepton_eta', 'lepton_phi'])"
   ]
  },
  {
   "cell_type": "code",
   "execution_count": 13,
   "metadata": {},
   "outputs": [
    {
     "data": {
      "text/plain": [
       "numpy.ndarray"
      ]
     },
     "execution_count": 13,
     "metadata": {},
     "output_type": "execute_result"
    }
   ],
   "source": [
    "type(leptons[b'lepton_pT'])"
   ]
  },
  {
   "cell_type": "markdown",
   "metadata": {},
   "source": [
    "---\n",
    "Now lets what branches the signal tree contains"
   ]
  },
  {
   "cell_type": "code",
   "execution_count": 14,
   "metadata": {},
   "outputs": [
    {
     "name": "stdout",
     "output_type": "stream",
     "text": [
      "lepton_pT                  (no streamer)              asdtype('>f8')\n",
      "lepton_eta                 (no streamer)              asdtype('>f8')\n",
      "lepton_phi                 (no streamer)              asdtype('>f8')\n",
      "missing_energy_magnitude   (no streamer)              asdtype('>f8')\n",
      "missing_energy_phi         (no streamer)              asdtype('>f8')\n",
      "jet_1_pt                   (no streamer)              asdtype('>f8')\n",
      "jet_1_eta                  (no streamer)              asdtype('>f8')\n",
      "jet_1_phi                  (no streamer)              asdtype('>f8')\n",
      "jet_1_b_tag                (no streamer)              asdtype('>f8')\n",
      "jet_2_pt                   (no streamer)              asdtype('>f8')\n",
      "jet_2_eta                  (no streamer)              asdtype('>f8')\n",
      "jet_2_phi                  (no streamer)              asdtype('>f8')\n",
      "jet_2_b_tag                (no streamer)              asdtype('>f8')\n",
      "jet_3_pt                   (no streamer)              asdtype('>f8')\n",
      "jet_3_eta                  (no streamer)              asdtype('>f8')\n",
      "jet_3_phi                  (no streamer)              asdtype('>f8')\n",
      "jet_3_b_tag                (no streamer)              asdtype('>f8')\n",
      "jet_4_pt                   (no streamer)              asdtype('>f8')\n",
      "jet_4_eta                  (no streamer)              asdtype('>f8')\n",
      "jet_4_phi                  (no streamer)              asdtype('>f8')\n",
      "jet_4_b_tag                (no streamer)              asdtype('>f8')\n",
      "m_jj                       (no streamer)              asdtype('>f8')\n",
      "m_jjj                      (no streamer)              asdtype('>f8')\n",
      "m_lv                       (no streamer)              asdtype('>f8')\n",
      "m_jlv                      (no streamer)              asdtype('>f8')\n",
      "m_bb                       (no streamer)              asdtype('>f8')\n",
      "m_wbb                      (no streamer)              asdtype('>f8')\n",
      "m_wwbb                     (no streamer)              asdtype('>f8')\n"
     ]
    }
   ],
   "source": [
    "signal_tree.show()"
   ]
  },
  {
   "cell_type": "code",
   "execution_count": 15,
   "metadata": {},
   "outputs": [
    {
     "name": "stdout",
     "output_type": "stream",
     "text": [
      "float64\n",
      "(5296,)\n"
     ]
    },
    {
     "data": {
      "image/png": "[encoded data removed]",
      "text/plain": [
       "<Figure size 432x288 with 1 Axes>"
      ]
     },
     "metadata": {
      "needs_background": "light"
     },
     "output_type": "display_data"
    }
   ],
   "source": [
    "# Lets convert one branch into an array and plot it\n",
    "m_bb = signal_tree.array('m_bb')\n",
    "# m_bb will be a numpy array with the same type as the branch eg 8-byte floating\n",
    "# which means a 64-bit floating-point number\n",
    "print(m_bb.dtype)\n",
    "# Double checking the size of the array:\n",
    "print(m_bb.shape)\n",
    "# We can even make a histogram with matplotlib\n",
    "plt.hist(m_bb, bins=20)\n",
    "plt.xlabel('m_bb')\n",
    "plt.title('Histogram from a branch')\n",
    "plt.show()"
   ]
  },
  {
   "cell_type": "code",
   "execution_count": null,
   "metadata": {},
   "outputs": [],
   "source": []
  }
 ],
 "metadata": {
  "kernelspec": {
   "display_name": "Python 3",
   "language": "python",
   "name": "python3"
  },
  "language_info": {
   "codemirror_mode": {
    "name": "ipython",
    "version": 3
   },
   "file_extension": ".py",
   "mimetype": "text/x-python",
   "name": "python",
   "nbconvert_exporter": "python",
   "pygments_lexer": "ipython3",
   "version": "3.7.6"
  }
 },
 "nbformat": 4,
 "nbformat_minor": 4
}
